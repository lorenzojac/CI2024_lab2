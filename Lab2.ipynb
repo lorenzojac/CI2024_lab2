{
  "nbformat": 4,
  "nbformat_minor": 0,
  "metadata": {
    "colab": {
      "provenance": []
    },
    "kernelspec": {
      "name": "python3",
      "display_name": "Python 3"
    },
    "language_info": {
      "name": "python"
    }
  },
  "cells": [
    {
      "cell_type": "code",
      "source": [
        "import numpy as np\n",
        "from geopy.distance import geodesic\n",
        "import random\n",
        "from itertools import combinations\n",
        "from tqdm import tqdm\n",
        "import pandas as pd\n",
        "\n"
      ],
      "metadata": {
        "id": "DK4HWxdCvBKw"
      },
      "execution_count": 44,
      "outputs": []
    },
    {
      "cell_type": "code",
      "source": [
        "# Define the TSP cost calculation\n",
        "def calculate_route_distance(route):\n",
        "    \"\"\"Calculates the total distance of the TSP route.\"\"\"\n",
        "    return sum(DIST_MATRIX[route[i], route[i+1]] for i in range(len(route) - 1)) + DIST_MATRIX[route[-1], route[0]]\n",
        "\n",
        "# Genetic Algorithm functions\n",
        "def fitness(route):\n",
        "    \"\"\"Calculates the fitness (inverse of distance) of a route.\"\"\"\n",
        "    distance = calculate_route_distance(route)\n",
        "    return 1 / distance if distance > 0 else float('inf')\n",
        "\n",
        "def initial_population(pop_size):\n",
        "    \"\"\"Generates an initial population of random routes.\"\"\"\n",
        "    population = []\n",
        "    for _ in range(pop_size):\n",
        "        route = list(range(len(CITIES)))\n",
        "        random.shuffle(route)\n",
        "        population.append(route)\n",
        "    return population\n",
        "\n",
        "def selection(population, fitnesses):\n",
        "    \"\"\"Selects two parents using weighted random choice based on fitness.\"\"\"\n",
        "    selected = random.choices(population, weights=fitnesses, k=2)\n",
        "    return selected[0], selected[1]\n",
        "\n",
        "def crossover(parent1, parent2):\n",
        "    \"\"\"Performs ordered crossover between two parents to produce a child.\"\"\"\n",
        "    start, end = sorted(random.sample(range(len(parent1)), 2))\n",
        "    child = [-1] * len(parent1)\n",
        "    child[start:end] = parent1[start:end]\n",
        "    pointer = end\n",
        "    for city in parent2:\n",
        "        if city not in child:\n",
        "            if pointer >= len(parent1):\n",
        "                pointer = 0\n",
        "            child[pointer] = city\n",
        "            pointer += 1\n",
        "    return child\n",
        "\n",
        "def mutate(route, mutation_rate):\n",
        "    \"\"\"Mutates a route by swapping two cities with a given probability.\"\"\"\n",
        "    if random.random() < mutation_rate:\n",
        "        i, j = random.sample(range(len(route)), 2)\n",
        "        route[i], route[j] = route[j], route[i]\n"
      ],
      "metadata": {
        "id": "cGc-lVRewR0N"
      },
      "execution_count": 45,
      "outputs": []
    },
    {
      "cell_type": "code",
      "source": [
        "# Genetic Algorithm Parameters\n",
        "POP_SIZE = 500\n",
        "GENS = 500\n",
        "MUTATION_RATE = 0.05\n",
        "ELITISM = 0.05\n",
        "\n",
        "def genetic_algorithm():\n",
        "    \"\"\"Solves the TSP using a Genetic Algorithm and returns the best route found along with the number of steps.\"\"\"\n",
        "    population = initial_population(POP_SIZE)\n",
        "    steps = 0\n",
        "\n",
        "    for gen in tqdm(range(GENS)):\n",
        "        steps += 1\n",
        "\n",
        "        # Evaluate fitness for each route\n",
        "        fitnesses = [fitness(route) for route in population]\n",
        "\n",
        "        # Elitism: carry over the top-performing routes to the new population\n",
        "        elite_count = int(ELITISM * POP_SIZE)\n",
        "        sorted_population = [route for _, route in sorted(zip(fitnesses, population), reverse=True)]\n",
        "        new_population = sorted_population[:elite_count]\n",
        "\n",
        "        while len(new_population) < POP_SIZE:\n",
        "            parent1, parent2 = selection(population, fitnesses)\n",
        "            child = crossover(parent1, parent2)\n",
        "            mutate(child, MUTATION_RATE)\n",
        "            new_population.append(child)\n",
        "\n",
        "        population = new_population\n",
        "\n",
        "    best_route = min(population, key=calculate_route_distance)\n",
        "\n",
        "    if best_route[0] != best_route[-1]:\n",
        "        best_route.append(best_route[0])\n",
        "\n",
        "    return best_route, calculate_route_distance(best_route), steps\n",
        "\n",
        "# Steady-State Genetic Algorithm (Slower but potentially more accurate)\n",
        "def steady_state_genetic_algorithm():\n",
        "    \"\"\"Solves the TSP using a Steady-State Genetic Algorithm and returns the best route found along with the number of steps.\"\"\"\n",
        "    population = initial_population(POP_SIZE)\n",
        "    best_route = None\n",
        "    best_distance = float('inf')\n",
        "    steps = 0  # Initialize step counter\n",
        "\n",
        "    for gen in tqdm(range(GENS)):\n",
        "        steps += 1  # Increment steps for each generation\n",
        "\n",
        "        fitnesses = [fitness(route) for route in population]\n",
        "\n",
        "        # Select two parents and generate a child\n",
        "        parent1, parent2 = selection(population, fitnesses)\n",
        "        child = crossover(parent1, parent2)\n",
        "        mutate(child, MUTATION_RATE)\n",
        "\n",
        "        child_distance = calculate_route_distance(child)\n",
        "        worst_idx = fitnesses.index(min(fitnesses))\n",
        "\n",
        "        if child_distance < calculate_route_distance(population[worst_idx]):\n",
        "            population[worst_idx] = child\n",
        "\n",
        "        # Track the best solution found\n",
        "        if child_distance < best_distance:\n",
        "            best_route = child[:]\n",
        "            best_distance = child_distance\n",
        "\n",
        "    # Ensure the route is a closed loop\n",
        "    if best_route[0] != best_route[-1]:\n",
        "        best_route.append(best_route[0])\n",
        "\n",
        "    return best_route, best_distance, steps\n"
      ],
      "metadata": {
        "id": "8erkSZslxDaA"
      },
      "execution_count": 46,
      "outputs": []
    },
    {
      "cell_type": "code",
      "source": [
        "# Load city data with error handling\n",
        "try:\n",
        "    file_path = 'path/to/your/china.csv'  # Replace with the actual path to your CSV file\n",
        "    CITIES = pd.read_csv('/content/china.csv', header=None, names=['name', 'lat', 'lon'])\n",
        "except FileNotFoundError:\n",
        "    print(\"Error: File not found. Please check the file path.\")\n",
        "    raise\n",
        "\n",
        "DIST_MATRIX = np.zeros((len(CITIES), len(CITIES)))\n",
        "for c1, c2 in combinations(CITIES.itertuples(), 2):\n",
        "    DIST_MATRIX[c1.Index, c2.Index] = DIST_MATRIX[c2.Index, c1.Index] = geodesic(\n",
        "        (c1.lat, c1.lon), (c2.lat, c2.lon)\n",
        "    ).km\n",
        "\n",
        "# Execute and Compare Both Algorithms\n",
        "# Approximate Solution (Genetic Algorithm)\n",
        "best_approx_route, approx_distance, approx_steps = genetic_algorithm()\n",
        "print(\"\\nApproximate Solution (Genetic Algorithm):\")\n",
        "print(f\"Best Route: {best_approx_route}\")\n",
        "print(f\"Total Distance: {approx_distance:.2f} km\")\n",
        "print(f\"Number of Steps (Generations): {approx_steps}\")\n",
        "\n",
        "#(Steady-State Genetic Algorithm)\n",
        "best_steady_route, steady_distance, steady_steps = steady_state_genetic_algorithm()\n",
        "print(\"\\nSlower but More Accurate Solution (Steady-State Genetic Algorithm):\")\n",
        "print(f\"Best Route: {best_steady_route}\")\n",
        "print(f\"Total Distance: {steady_distance:.2f} km\")\n",
        "print(f\"Number of Steps (Generations): {steady_steps}\")"
      ],
      "metadata": {
        "colab": {
          "base_uri": "https://localhost:8080/"
        },
        "id": "-axiG2-cw-zd",
        "outputId": "f6735d7c-595d-49e5-db15-26703f2fff30"
      },
      "execution_count": 49,
      "outputs": [
        {
          "output_type": "stream",
          "name": "stderr",
          "text": [
            "100%|██████████| 500/500 [20:53<00:00,  2.51s/it]\n"
          ]
        },
        {
          "output_type": "stream",
          "name": "stdout",
          "text": [
            "\n",
            "Approximate Solution (Genetic Algorithm):\n",
            "Best Route: [270, 490, 302, 242, 511, 149, 607, 304, 195, 255, 81, 111, 250, 136, 109, 297, 51, 330, 161, 301, 135, 347, 113, 574, 663, 712, 562, 502, 7, 403, 623, 234, 538, 240, 132, 194, 83, 268, 238, 477, 252, 45, 633, 641, 602, 227, 487, 386, 680, 375, 209, 80, 137, 152, 25, 138, 606, 601, 5, 414, 397, 239, 369, 286, 38, 87, 33, 125, 416, 282, 589, 632, 65, 542, 661, 649, 722, 655, 281, 581, 478, 271, 455, 259, 647, 458, 535, 569, 98, 406, 390, 559, 499, 383, 431, 419, 451, 636, 507, 434, 232, 377, 319, 290, 197, 714, 392, 257, 440, 323, 540, 545, 686, 381, 407, 690, 275, 402, 84, 317, 253, 140, 640, 657, 389, 251, 130, 41, 182, 307, 326, 667, 470, 492, 344, 133, 384, 277, 580, 621, 583, 526, 410, 205, 682, 43, 39, 165, 201, 482, 101, 13, 352, 77, 524, 415, 380, 178, 658, 417, 515, 241, 121, 120, 556, 552, 134, 49, 16, 318, 462, 96, 349, 662, 354, 9, 168, 200, 446, 236, 215, 308, 679, 675, 208, 505, 18, 644, 444, 627, 248, 591, 366, 6, 710, 594, 298, 695, 609, 436, 648, 368, 587, 273, 504, 388, 329, 143, 701, 53, 705, 650, 519, 430, 719, 211, 217, 378, 199, 142, 460, 700, 488, 22, 672, 66, 391, 646, 725, 189, 518, 625, 693, 75, 469, 320, 424, 331, 379, 245, 493, 630, 350, 179, 666, 513, 611, 296, 156, 306, 426, 537, 206, 131, 711, 12, 635, 170, 694, 316, 32, 472, 476, 85, 139, 448, 604, 432, 126, 681, 23, 229, 387, 17, 122, 291, 144, 656, 404, 54, 428, 173, 363, 485, 36, 699, 233, 289, 69, 167, 720, 118, 590, 184, 721, 117, 62, 114, 449, 90, 685, 596, 287, 395, 310, 128, 529, 21, 335, 102, 717, 78, 678, 166, 642, 669, 688, 192, 677, 151, 514, 626, 613, 0, 88, 615, 68, 225, 247, 480, 610, 35, 501, 603, 634, 560, 104, 584, 172, 89, 608, 237, 112, 516, 533, 334, 95, 617, 48, 654, 530, 385, 190, 293, 188, 60, 181, 31, 55, 683, 576, 235, 543, 254, 425, 570, 586, 429, 74, 464, 593, 295, 223, 175, 445, 551, 212, 93, 183, 230, 597, 532, 186, 614, 219, 71, 665, 364, 631, 91, 222, 73, 258, 278, 284, 550, 202, 687, 567, 536, 365, 338, 637, 497, 303, 412, 99, 362, 333, 340, 294, 266, 599, 220, 528, 343, 34, 129, 30, 442, 249, 370, 2, 638, 67, 484, 652, 629, 399, 356, 673, 61, 309, 553, 450, 372, 495, 503, 288, 28, 57, 59, 509, 105, 595, 11, 620, 147, 3, 246, 224, 427, 373, 598, 541, 456, 713, 315, 64, 500, 177, 159, 643, 452, 359, 616, 325, 659, 433, 459, 544, 405, 311, 264, 198, 557, 56, 563, 274, 517, 676, 573, 461, 420, 272, 525, 546, 520, 52, 696, 539, 191, 353, 86, 10, 42, 305, 468, 454, 97, 26, 376, 115, 439, 571, 46, 554, 422, 547, 164, 228, 486, 522, 653, 624, 692, 180, 457, 716, 283, 328, 285, 107, 244, 564, 496, 336, 110, 698, 280, 592, 531, 345, 148, 447, 707, 465, 565, 313, 261, 351, 491, 453, 221, 322, 169, 1, 299, 231, 498, 437, 588, 92, 321, 342, 63, 106, 441, 408, 171, 37, 612, 394, 72, 203, 127, 155, 153, 689, 691, 19, 512, 489, 279, 339, 670, 475, 413, 269, 600, 471, 214, 483, 332, 141, 193, 708, 292, 207, 396, 174, 154, 628, 618, 438, 671, 360, 27, 494, 668, 548, 243, 367, 324, 108, 70, 401, 337, 76, 355, 697, 187, 276, 263, 409, 58, 150, 619, 467, 639, 724, 523, 94, 312, 300, 327, 157, 474, 314, 715, 358, 723, 651, 709, 585, 4, 704, 163, 443, 566, 645, 506, 398, 660, 100, 521, 213, 579, 158, 185, 50, 357, 423, 24, 15, 622, 82, 361, 218, 123, 103, 20, 479, 47, 160, 582, 196, 382, 577, 256, 561, 124, 481, 568, 684, 473, 210, 346, 549, 400, 260, 393, 664, 371, 116, 466, 204, 40, 421, 119, 226, 29, 341, 146, 44, 374, 572, 176, 162, 262, 8, 418, 702, 216, 510, 575, 706, 674, 605, 79, 508, 435, 463, 14, 534, 558, 348, 145, 578, 265, 555, 267, 703, 527, 411, 718, 270]\n",
            "Total Distance: 736771.48 km\n",
            "Number of Steps (Generations): 500\n"
          ]
        },
        {
          "output_type": "stream",
          "name": "stderr",
          "text": [
            "100%|██████████| 500/500 [01:35<00:00,  5.25it/s]"
          ]
        },
        {
          "output_type": "stream",
          "name": "stdout",
          "text": [
            "\n",
            "Slower but More Accurate Solution (Steady-State Genetic Algorithm):\n",
            "Best Route: [423, 680, 408, 32, 364, 711, 159, 409, 206, 71, 317, 10, 299, 20, 81, 234, 400, 247, 550, 421, 363, 672, 308, 104, 486, 526, 35, 76, 66, 496, 350, 22, 291, 57, 318, 91, 362, 537, 171, 17, 471, 586, 259, 195, 28, 280, 284, 27, 688, 563, 53, 179, 524, 177, 709, 105, 445, 682, 72, 434, 724, 184, 596, 698, 460, 185, 412, 456, 613, 448, 94, 125, 465, 96, 520, 131, 700, 302, 160, 535, 647, 352, 677, 540, 300, 199, 482, 620, 477, 366, 145, 378, 619, 163, 422, 419, 227, 343, 243, 210, 155, 640, 696, 427, 658, 499, 659, 226, 132, 293, 113, 161, 146, 245, 491, 14, 167, 610, 599, 446, 652, 587, 548, 332, 444, 722, 615, 111, 513, 251, 0, 169, 576, 43, 525, 183, 137, 134, 669, 689, 271, 714, 151, 114, 207, 84, 635, 248, 565, 49, 512, 23, 723, 416, 541, 716, 250, 636, 340, 178, 418, 371, 261, 309, 509, 208, 591, 219, 239, 458, 140, 242, 112, 26, 414, 339, 452, 687, 674, 498, 135, 390, 396, 34, 75, 122, 474, 152, 694, 197, 330, 13, 560, 657, 301, 384, 193, 355, 74, 95, 165, 354, 392, 106, 667, 707, 455, 97, 90, 661, 715, 235, 536, 305, 149, 103, 403, 523, 467, 518, 50, 162, 138, 11, 639, 47, 571, 73, 170, 718, 108, 217, 267, 275, 424, 143, 642, 3, 303, 209, 690, 344, 349, 480, 570, 44, 216, 61, 262, 490, 240, 277, 181, 529, 611, 31, 153, 268, 417, 387, 381, 107, 244, 334, 555, 198, 573, 504, 156, 287, 493, 29, 558, 304, 508, 18, 632, 380, 82, 298, 435, 201, 534, 650, 646, 196, 367, 325, 597, 473, 333, 357, 174, 623, 702, 432, 600, 388, 45, 312, 253, 214, 485, 668, 192, 411, 269, 358, 58, 631, 265, 681, 361, 375, 608, 147, 479, 266, 545, 48, 42, 60, 351, 117, 603, 584, 154, 306, 150, 64, 386, 624, 628, 373, 286, 598, 5, 644, 454, 653, 256, 257, 246, 583, 176, 100, 604, 377, 528, 472, 500, 478, 182, 612, 230, 63, 464, 521, 621, 372, 315, 236, 337, 441, 62, 553, 686, 68, 272, 399, 605, 440, 56, 52, 683, 129, 24, 321, 692, 211, 370, 295, 19, 136, 21, 594, 706, 601, 252, 554, 638, 188, 410, 426, 282, 238, 187, 224, 470, 120, 602, 54, 347, 33, 413, 379, 607, 634, 533, 442, 356, 625, 270, 319, 78, 557, 457, 212, 342, 519, 530, 580, 463, 564, 128, 237, 502, 4, 511, 116, 85, 328, 398, 703, 273, 281, 9, 549, 572, 606, 438, 515, 569, 574, 55, 397, 708, 67, 123, 323, 425, 172, 437, 164, 567, 119, 705, 581, 102, 428, 622, 566, 577, 495, 180, 617, 713, 8, 510, 16, 627, 626, 110, 710, 451, 12, 345, 79, 338, 6, 15, 551, 249, 685, 405, 186, 296, 297, 447, 450, 505, 506, 118, 592, 173, 664, 436, 86, 279, 41, 656, 662, 37, 59, 676, 415, 579, 327, 89, 7, 175, 231, 80, 725, 365, 546, 341, 39, 712, 717, 488, 420, 158, 670, 487, 492, 475, 313, 2, 439, 223, 469, 98, 484, 547, 675, 704, 144, 157, 385, 648, 720, 507, 383, 274, 92, 430, 404, 468, 205, 127, 699, 348, 449, 542, 595, 543, 494, 645, 532, 497, 544, 407, 614, 25, 629, 561, 38, 93, 514, 443, 649, 618, 402, 360, 232, 225, 101, 353, 671, 382, 130, 121, 673, 194, 109, 189, 331, 559, 459, 87, 233, 40, 701, 278, 651, 229, 522, 335, 369, 374, 501, 215, 311, 258, 46, 633, 527, 200, 376, 148, 453, 263, 721, 310, 585, 575, 660, 539, 141, 221, 289, 70, 666, 191, 359, 503, 401, 590, 697, 562, 695, 630, 431, 578, 466, 531, 288, 264, 204, 69, 556, 637, 99, 36, 429, 568, 139, 336, 314, 254, 133, 285, 641, 213, 324, 260, 202, 609, 168, 326, 77, 65, 292, 218, 593, 461, 190, 391, 220, 83, 489, 368, 294, 115, 433, 203, 538, 389, 393, 665, 406, 316, 719, 290, 320, 476, 654, 588, 307, 346, 124, 142, 684, 663, 483, 329, 616, 283, 691, 693, 394, 643, 517, 228, 51, 589, 322, 166, 552, 126, 395, 462, 222, 655, 276, 678, 88, 582, 255, 481, 516, 679, 1, 241, 30, 423]\n",
            "Total Distance: 929198.49 km\n",
            "Number of Steps (Generations): 500\n"
          ]
        },
        {
          "output_type": "stream",
          "name": "stderr",
          "text": [
            "\n"
          ]
        }
      ]
    },
    {
      "cell_type": "code",
      "source": [
        "# Load city data with error handling\n",
        "try:\n",
        "    file_path = 'path/to/your/italy.csv'  # Replace with the actual path to your CSV file\n",
        "    CITIES = pd.read_csv('/content/italy.csv', header=None, names=['name', 'lat', 'lon'])\n",
        "except FileNotFoundError:\n",
        "    print(\"Error: File not found. Please check the file path.\")\n",
        "    raise\n",
        "\n",
        "# Generate distance matrix\n",
        "DIST_MATRIX = np.zeros((len(CITIES), len(CITIES)))\n",
        "for c1, c2 in combinations(CITIES.itertuples(), 2):\n",
        "    DIST_MATRIX[c1.Index, c2.Index] = DIST_MATRIX[c2.Index, c1.Index] = geodesic(\n",
        "        (c1.lat, c1.lon), (c2.lat, c2.lon)\n",
        "    ).km\n",
        "\n",
        "# Execute and Compare Both Algorithms\n",
        "# Approximate Solution (Genetic Algorithm)\n",
        "best_approx_route, approx_distance, approx_steps = genetic_algorithm()\n",
        "print(\"\\nApproximate Solution (Genetic Algorithm):\")\n",
        "print(f\"Best Route: {best_approx_route}\")\n",
        "print(f\"Total Distance: {approx_distance:.2f} km\")\n",
        "print(f\"Number of Steps (Generations): {approx_steps}\")\n",
        "\n",
        "#(Steady-State Genetic Algorithm)\n",
        "best_steady_route, steady_distance, steady_steps = steady_state_genetic_algorithm()\n",
        "print(\"\\nSlower but More Accurate Solution (Steady-State Genetic Algorithm):\")\n",
        "print(f\"Best Route: {best_steady_route}\")\n",
        "print(f\"Total Distance: {steady_distance:.2f} km\")\n",
        "print(f\"Number of Steps (Generations): {steady_steps}\")"
      ],
      "metadata": {
        "colab": {
          "base_uri": "https://localhost:8080/"
        },
        "id": "4FcE2_juxLb_",
        "outputId": "e68be4b5-26d9-49cf-e49f-fe1687f4ea8c"
      },
      "execution_count": 48,
      "outputs": [
        {
          "output_type": "stream",
          "name": "stderr",
          "text": [
            "100%|██████████| 500/500 [00:22<00:00, 22.20it/s]\n"
          ]
        },
        {
          "output_type": "stream",
          "name": "stdout",
          "text": [
            "\n",
            "Approximate Solution (Genetic Algorithm):\n",
            "Best Route: [20, 18, 22, 42, 13, 16, 29, 26, 39, 15, 14, 21, 35, 38, 2, 11, 1, 27, 34, 24, 8, 37, 31, 17, 7, 36, 10, 0, 33, 30, 12, 4, 19, 25, 32, 6, 44, 40, 5, 41, 43, 23, 45, 9, 28, 3, 20]\n",
            "Total Distance: 5303.53 km\n",
            "Number of Steps (Generations): 500\n"
          ]
        },
        {
          "output_type": "stream",
          "name": "stderr",
          "text": [
            "100%|██████████| 500/500 [00:05<00:00, 94.29it/s] "
          ]
        },
        {
          "output_type": "stream",
          "name": "stdout",
          "text": [
            "\n",
            "Slower but More Accurate Solution (Steady-State Genetic Algorithm):\n",
            "Best Route: [35, 2, 1, 36, 45, 3, 43, 32, 38, 22, 24, 39, 30, 15, 14, 17, 37, 8, 4, 11, 21, 26, 33, 27, 31, 5, 41, 28, 0, 29, 13, 7, 42, 12, 20, 18, 23, 10, 40, 16, 25, 9, 6, 44, 19, 34, 35]\n",
            "Total Distance: 14906.86 km\n",
            "Number of Steps (Generations): 500\n"
          ]
        },
        {
          "output_type": "stream",
          "name": "stderr",
          "text": [
            "\n"
          ]
        }
      ]
    }
  ]
}